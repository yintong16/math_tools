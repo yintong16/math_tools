{
 "cells": [
  {
   "cell_type": "code",
   "execution_count": 2,
   "metadata": {},
   "outputs": [],
   "source": [
    "import modLib as ml"
   ]
  },
  {
   "cell_type": "code",
   "execution_count": 3,
   "metadata": {},
   "outputs": [
    {
     "name": "stdout",
     "output_type": "stream",
     "text": [
      "6\n",
      "265457\n",
      "1\n"
     ]
    }
   ],
   "source": [
    "print(ml.gcd(606, 660))\n",
    "d = ml.Extended_Euclidian_Algorithm(38993, 606*660)[0]\n",
    "if d < 0:\n",
    "    d += 606*660\n",
    "print(d)\n",
    "print(d*38993 % (606*660))\n"
   ]
  },
  {
   "cell_type": "code",
   "execution_count": 24,
   "metadata": {},
   "outputs": [
    {
     "name": "stdout",
     "output_type": "stream",
     "text": [
      "u, v:  252426389 -496549570\n",
      "1\n",
      "c1, c2 (-97163003, 164932134)\n",
      "1054592380\n",
      "1054592380\n"
     ]
    }
   ],
   "source": [
    "N = 1889570071\n",
    "e1 = 1021763679\n",
    "e2 = 519424709\n",
    "c1 = 1244183534\n",
    "c2 = 732959706\n",
    "u, v = ml.Extended_Euclidian_Algorithm(e1, e2)\n",
    "print(\"u, v: \", u, v)\n",
    "print(e1*u + e2*v)\n",
    "print(\"c1, c2\", ml.Extended_Euclidian_Algorithm(c1, c2))\n",
    "print((ml.fast_pow(c1, u, N)*ml.fast_pow(c2, v, N)) % N)\n",
    "print((pow(c1, u, N)*pow(c2, v, N)) % N)"
   ]
  },
  {
   "cell_type": "code",
   "execution_count": 15,
   "metadata": {},
   "outputs": [
    {
     "name": "stdout",
     "output_type": "stream",
     "text": [
      "1 1\n",
      "2 781\n",
      "3 259\n"
     ]
    },
    {
     "data": {
      "text/plain": [
       "17"
      ]
     },
     "execution_count": 15,
     "metadata": {},
     "output_type": "execute_result"
    }
   ],
   "source": [
    "n_1 = 1104\n",
    "N = 1105\n",
    "#k,q can be found using factor2, this will be implemented\n",
    "k = 4\n",
    "q = 69\n",
    "a = 2\n",
    "for i in range(1, 4):\n",
    "    q1 = ml.fast_pow(a,n_1//(2**i),N)\n",
    "    print(i, q1)\n",
    "ml.gcd(781+1,N)\n"
   ]
  },
  {
   "cell_type": "code",
   "execution_count": 20,
   "metadata": {},
   "outputs": [
    {
     "name": "stdout",
     "output_type": "stream",
     "text": [
      "1083 1\n",
      "5 1395 1\n",
      "6 1444 37\n",
      "7 149 37\n",
      "8 519 37\n",
      "9 371 37\n"
     ]
    }
   ],
   "source": [
    "iter1 = ml.fast_pow(2, 24, 1739)\n",
    "iter1_gcd = ml.gcd(iter1-1, 1739)\n",
    "print(iter1, iter1_gcd)\n",
    "factorial = 24\n",
    "for i in range(5,10):\n",
    "    factorial*=i\n",
    "    iter_i = ml.fast_pow(2, factorial, 1739)\n",
    "    iter_i_gcd = ml.gcd(iter_i-1, 1739)\n",
    "    print(i, iter_i, iter_i_gcd)"
   ]
  },
  {
   "cell_type": "code",
   "execution_count": 22,
   "metadata": {},
   "outputs": [
    {
     "data": {
      "text/plain": [
       "1244183534"
      ]
     },
     "execution_count": 22,
     "metadata": {},
     "output_type": "execute_result"
    }
   ],
   "source": [
    "ml.fast_pow(1054592380, 1021763679, 1889570071)"
   ]
  }
 ],
 "metadata": {
  "kernelspec": {
   "display_name": "Python 3",
   "language": "python",
   "name": "python3"
  },
  "language_info": {
   "codemirror_mode": {
    "name": "ipython",
    "version": 3
   },
   "file_extension": ".py",
   "mimetype": "text/x-python",
   "name": "python",
   "nbconvert_exporter": "python",
   "pygments_lexer": "ipython3",
   "version": "3.11.9"
  }
 },
 "nbformat": 4,
 "nbformat_minor": 2
}
