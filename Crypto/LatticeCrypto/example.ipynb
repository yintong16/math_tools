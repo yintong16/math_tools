{
 "cells": [
  {
   "cell_type": "code",
   "execution_count": null,
   "metadata": {},
   "outputs": [],
   "source": [
    "from Lattice import *"
   ]
  },
  {
   "cell_type": "code",
   "execution_count": null,
   "metadata": {},
   "outputs": [],
   "source": [
    "# Example usage\n",
    "A = [\n",
    "    [4, -57],\n",
    "    [13, -45],\n",
    "]\n",
    "b = [155340, 55483]\n",
    "\n",
    "solution = gaussian_elimination(A, b)\n",
    "print(\"Solution:\", solution)\n",
    "\n",
    "L = Lattice()\n",
    "norm_L = L.norm([4,13])\n",
    "print(norm_L)\n",
    "norm_L = L.norm([-57,-45])\n",
    "print(norm_L)\n",
    "norm_L = L.norm([25453,9091])\n",
    "print(norm_L)\n",
    "norm_L = L.norm([-16096, -5749])\n",
    "print(norm_L)\n",
    "\n",
    "diff = [6, -13, 13, 5, 14, 2, -15, 11, 9, 0, 4, -3, 9, 17, 20, 12, -1, 11, 3, -2, 19, 13]\n",
    "\n",
    "\n",
    "def norm(v):\n",
    "    return ml.sqrt(sum([i**2 for i in v]))\n",
    "\n",
    "print(\"diff\", norm(diff))"
   ]
  },
  {
   "cell_type": "code",
   "execution_count": null,
   "metadata": {},
   "outputs": [],
   "source": [
    "v1 = [66586820, 65354729]\n",
    "v2 = [6513996, 6393464]\n",
    "\n",
    "new_v1, new_v2 = gaussian_reduction(v1, v2)\n",
    "print(new_v1, new_v2)"
   ]
  }
 ],
 "metadata": {
  "language_info": {
   "name": "python"
  }
 },
 "nbformat": 4,
 "nbformat_minor": 2
}
