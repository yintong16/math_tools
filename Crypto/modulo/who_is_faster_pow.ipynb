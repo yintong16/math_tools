{
 "cells": [
  {
   "cell_type": "markdown",
   "metadata": {},
   "source": [
    "# Race of powering base\n",
    "\n",
    "Beyond faster powering algorithm. I want to know what is the most efficient powering base"
   ]
  },
  {
   "cell_type": "markdown",
   "metadata": {},
   "source": [
    "### We know that our original implementation of fast powering algorithm uses base 2 ans follows:"
   ]
  },
  {
   "cell_type": "code",
   "execution_count": 1,
   "metadata": {},
   "outputs": [],
   "source": [
    "def Extended_Euclidian_Algorithm(a, b):\n",
    "    if b == 0:\n",
    "        return (1, 0)\n",
    "    else:\n",
    "        (x, y) = Extended_Euclidian_Algorithm(b, a % b)\n",
    "        return (y, x - (a // b) * y)\n",
    "\n",
    "def fast_pow(a, power, p):\n",
    "    rtn  = 1\n",
    "    if power < 0:\n",
    "        inverse = Extended_Euclidian_Algorithm(a, p)[0]\n",
    "        if inverse < 0:\n",
    "            inverse += p\n",
    "        a = inverse\n",
    "        power = -power\n",
    "    if a > p:\n",
    "        a = a % p\n",
    "    while power > 0:\n",
    "        if power % 2 == 1: #odd\n",
    "            rtn = (rtn * a) % p\n",
    "        power = power >> 1\n",
    "        a = (a * a) % p    \n",
    "    return rtn"
   ]
  },
  {
   "cell_type": "code",
   "execution_count": 4,
   "metadata": {},
   "outputs": [
    {
     "data": {
      "text/plain": [
       "20"
      ]
     },
     "execution_count": 4,
     "metadata": {},
     "output_type": "execute_result"
    }
   ],
   "source": [
    "fast_pow(2, 100, 71)"
   ]
  },
  {
   "cell_type": "markdown",
   "metadata": {},
   "source": [
    "### Now let's use base 3\n",
    "Theoretically base 3 is closer to Euler's Number $e$ (Brian Hayes 2001)"
   ]
  },
  {
   "cell_type": "code",
   "execution_count": null,
   "metadata": {},
   "outputs": [],
   "source": []
  }
 ],
 "metadata": {
  "kernelspec": {
   "display_name": "Python 3",
   "language": "python",
   "name": "python3"
  },
  "language_info": {
   "codemirror_mode": {
    "name": "ipython",
    "version": 3
   },
   "file_extension": ".py",
   "mimetype": "text/x-python",
   "name": "python",
   "nbconvert_exporter": "python",
   "pygments_lexer": "ipython3",
   "version": "3.11.9"
  }
 },
 "nbformat": 4,
 "nbformat_minor": 2
}
