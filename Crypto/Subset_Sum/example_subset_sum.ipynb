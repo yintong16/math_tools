{
 "cells": [
  {
   "cell_type": "code",
   "execution_count": 1,
   "metadata": {},
   "outputs": [],
   "source": [
    "import Subset_sum\n",
    "import sys\n",
    "sys.path.append('C:\\\\Users\\\\MAIN\\\\Desktop\\\\math_tools\\\\Crypto')\n",
    "from modulo import modLib as ml"
   ]
  },
  {
   "cell_type": "code",
   "execution_count": 4,
   "metadata": {},
   "outputs": [
    {
     "name": "stdout",
     "output_type": "stream",
     "text": [
      "2683\n",
      "R =  [5, 14, 30, 75, 160, 351, 750, 1579, 3253, 6500]\n",
      "R is a superincreasing sequence: False\n",
      "S' =  4528\n",
      "X =  [0, 1, 0, 1, 1, 1, 0, 0, 1, 0]\n"
     ]
    }
   ],
   "source": [
    "M = [5186, 2779, 5955, 2307, 6599, 6771, 6296, 7306, 4115, 7039]\n",
    "A = 4392\n",
    "B = 8387\n",
    "S = 26560\n",
    "A_inverse = ml.Extended_Euclidian_Algorithm(A, B)[0]\n",
    "print(\"A-1 = \", A_inverse)\n",
    "# R = (r1, r2, ..., rn)\n",
    "R = []\n",
    "for Mi in M:\n",
    "    R.append((Mi*A_inverse)%B)\n",
    "print(\"R = \", R)\n",
    "status = Subset_sum.super_increasing_sequence_verifier(R)\n",
    "print(\"R is a superincreasing sequence:\", status)\n",
    "S_prime = (S*A_inverse)%B\n",
    "print(\"S' = \", S_prime)\n",
    "X = Subset_sum.subset_sum_super_increasing_sequence_solver(S_prime, R)\n",
    "print(\"X = \", X)\n"
   ]
  }
 ],
 "metadata": {
  "kernelspec": {
   "display_name": "Python 3",
   "language": "python",
   "name": "python3"
  },
  "language_info": {
   "codemirror_mode": {
    "name": "ipython",
    "version": 3
   },
   "file_extension": ".py",
   "mimetype": "text/x-python",
   "name": "python",
   "nbconvert_exporter": "python",
   "pygments_lexer": "ipython3",
   "version": "3.11.9"
  }
 },
 "nbformat": 4,
 "nbformat_minor": 2
}
